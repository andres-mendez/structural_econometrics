{
 "cells": [
  {
   "cell_type": "markdown",
   "metadata": {},
   "source": [
    "01/12/2017\n",
    "\n",
    "### Andrés Méndez\n",
    "\n",
    "# Econ 388 E - Fall 2017\n",
    "## Assignment 3: Single Agent Dynamic Programming / Estimation"
   ]
  },
  {
   "cell_type": "markdown",
   "metadata": {},
   "source": [
    "\n",
    "Consider a capital replacement problem similar to that in Rust (1987). Firms each use one machine to produce output in each period. These machines age, becoming more likely to breakdown, and in each time period the firms have the option of replacing the machines. Let $a_t$ be the age of your machine at time $t$ and let the expected current period profits from using a machine of age $a_t$ be given by:\n",
    "\n",
    "\\begin{equation}\n",
    "\\Pi(a_t, i_t, \\varepsilon_{0t}, \\varepsilon_{1t})=\n",
    "\\begin{cases}\n",
    "&\\theta_1 a_t + \\varepsilon_{0t} &\\quad \\text{if $i_t =0$}\\\\\n",
    "&R + \\varepsilon_{1t} &\\quad \\text{if $i_t =1$}\n",
    "\\end{cases}\n",
    "\\end{equation}\n",
    "\n",
    "where $i_t = 1$ if the firm decides to replace the machine at $t$, $R$ is the net cost of a new machine, and the $\\varepsilon_{t}$'s are time specific shocks to the utilities from replacing and not replacing. Assume that these $\\varepsilon_{t}$'s are i.i.d. logit errors."
   ]
  },
  {
   "cell_type": "markdown",
   "metadata": {},
   "source": [
    "Lets assume a very simple state evolution equation:\n",
    "\n",
    "\\begin{equation}\n",
    "a_{t+1}=\n",
    "\\begin{cases}\n",
    "&\\min\\{5, a_t+1\\} &\\quad \\text{if $i_t =0$}\\\\\n",
    "&1 &\\quad \\text{if $i_t =1$}\n",
    "\\end{cases}\n",
    "\\end{equation}\n",
    "\n",
    "In words, if the firm decides not to replace, the machine ages by one year (up to a maximum of 5 years - after 5 years machines don't age). If the firm replaces in the current year, the age next year is 1. Note that there are thus only 5 possible values of $a_t$ - 1,2,3,4, and 5."
   ]
  },
  {
   "cell_type": "markdown",
   "metadata": {},
   "source": [
    "### Question 1\n",
    "\n",
    "Write down the dynamic programming problem for a firm maximizing the PDV of future profits (assume an $\\infty$ horizon)."
   ]
  },
  {
   "cell_type": "markdown",
   "metadata": {},
   "source": [
    "**Answer:**\n",
    "\n",
    "The stochastic process governing $\\{i_t, a_t\\}$ is the solution to the following  *regenerative optimal stopping* problem:\n",
    "\n",
    "\\begin{equation}\n",
    "V(a_t; \\theta) = \\max_{\\Phi} E\\bigg[\\sum_{j=t}^\\infty \\beta^{j-t} \\Pi(a_j, i_j, \\varepsilon_{0j}, \\varepsilon_{1j}; \\theta) \\bigg| a_t, \\Phi; \\theta\\bigg],\n",
    "\\end{equation}\n",
    "\n",
    "where expectation is over future $a_t$'s, and the $\\max$ is taken over future choices $i_{t+1}, \\dots, i_{\\infty}$. However, because future $a$'s are observed before choosing future $i$'s, this is a functional $\\Phi$ mapping future stares into future choices."
   ]
  },
  {
   "cell_type": "markdown",
   "metadata": {},
   "source": [
    "Under regularity conditions, $V(a_t)$ satisfies the following Bellman equation:\n",
    "\n",
    "\\begin{equation}\n",
    "V(a_t; \\theta) = \\max_{i_t} [\\Pi(a_j, i_j, \\varepsilon_{0j}, \\varepsilon_{1j}; \\theta)+\\beta [V(a_{t+1}; \\theta)|a_t, i_t, \\varepsilon_{0t}, \\varepsilon_{1t};\\theta]]\n",
    "\\end{equation}"
   ]
  },
  {
   "cell_type": "markdown",
   "metadata": {},
   "source": [
    "### Question 2\n",
    "\n",
    "What are the differences between this $\\Pi(a_t, i_t, \\varepsilon_{0t}, \\varepsilon_{1t})$ and the profit function in the class notes on Rust? What happened to $c(0; \\theta)$?"
   ]
  },
  {
   "cell_type": "markdown",
   "metadata": {},
   "source": [
    "**Answer:**\n",
    "\n",
    "The cost of operating a machine with age $a_t$ is assumed to be linear in age, i.e. $c(a_t; \\theta)= \\theta_1 a_t$. This implies that $c(0; \\theta)=0$."
   ]
  },
  {
   "cell_type": "markdown",
   "metadata": {},
   "source": [
    "### Question 3\n",
    "\n",
    "On the computer, write a procedure that solves this dynamic programming problem given values of the parameters $(\\underline{\\theta_1}, R)$. Assuem that $\\beta = 0.9$. Use the \"alternative-specific\" value function method in the class, i,e, definte $\\bar{V}_0(a_t)$ and $\\bar{V}_1(a_t)$ -you should end up with equations looking something like\n",
    "\n",
    "\\begin{equation}\n",
    "\\begin{split}\n",
    "&\\bar{V}_0(a_t) = \\theta_1 a_t + \\beta E \\big[\\max\\big\\{\\bar{V}_0(a_{t+1})+\\varepsilon_{0t+1},\\bar{V}_1(a_{t+1})+\\varepsilon_{1t+1}  \\big\\} \\big]\\\\\n",
    "&\\bar{V}_1(a_t) = R + \\beta E \\big[\\max\\big\\{\\bar{V}_0(a_{t+1})+\\varepsilon_{0t+1},\\bar{V}_1(a_{t+1})+\\varepsilon_{1t+1}  \\big\\} \\big]\n",
    "\\end{split}\n",
    "\\end{equation}\n",
    "\n",
    "and do the contraction mapping on these two 5-vectors. Iterate the contraction mapping until the $\\bar{V}$ functions don't change very much. Remember that given the logit error assumption there is an analytic solution to the\n",
    "expectation of the max in these equations (and Euler's constant $\\approx .5772$)."
   ]
  },
  {
   "cell_type": "markdown",
   "metadata": {},
   "source": [
    "**Answer:**\n",
    "\n",
    "Using te logit error assumption, we can integrate analytically over $\\varepsilon_{0t+1}$ and $\\varepsilon_{1t+1}$:\n",
    "\n",
    "\\begin{equation}\n",
    "\\begin{split}\n",
    "&\\bar{V}_0(a_t) = \\theta_1 a_t + \\beta E_{a_{t+1}} \\big[0.5772 + \\ln[e^{\\bar{V}_0(a_{t+1})}+e^{\\bar{V}_1(a_{t+1})}]\\big]\\\\\n",
    "&\\bar{V}_1(a_t) = R + \\beta E_{a_{t+1}} \\big[0.5772 + \\ln[e^{\\bar{V}_0(a_{t+1})}+e^{\\bar{V}_1(a_{t+1})}]\\big].\n",
    "\\end{split}\n",
    "\\end{equation}\n"
   ]
  },
  {
   "cell_type": "markdown",
   "metadata": {},
   "source": [
    "Moreover, the evolution of the state is  deterministic. Therefore, we rexpress the above equations as:\n",
    "\n",
    "\\begin{equation}\n",
    "\\begin{split}\n",
    "&\\bar{V}_0(a_t) = \\theta_1 a_t + \\beta  \\big[0.5772 + \\ln[e^{\\bar{V}_0(\\min\\{5, a_t+1\\})}+e^{\\bar{V}_1(\\min\\{5, a_t+1\\})}]\\big]\\\\\n",
    "&\\bar{V}_1(a_t) = R + \\beta  \\big[0.5772 + \\ln[e^{\\bar{V}_0(1)}+e^{\\bar{V}_1(1)}]\\big].\n",
    "\\end{split}\n",
    "\\end{equation}\n"
   ]
  },
  {
   "cell_type": "code",
   "execution_count": 481,
   "metadata": {
    "collapsed": true
   },
   "outputs": [],
   "source": [
    "import nbconvert\n",
    "import numpy as np\n",
    "from numpy import linalg as LA\n",
    "import scipy.stats \n",
    "from scipy.optimize import minimize\n",
    "import pandas as pd"
   ]
  },
  {
   "cell_type": "code",
   "execution_count": 482,
   "metadata": {
    "collapsed": true
   },
   "outputs": [],
   "source": [
    "def contraction(Vn, beta, theta1, R):\n",
    "    Vnplusone=np.zeros((10, 1))\n",
    "    # The first 5 rows correspond to V_0. Ordered by the possible values of a_t: 1,2,3,4,5.\n",
    "    Vnplusone[0] = theta1*1 + beta*(0.5772+np.log(np.exp(Vn[1])+np.exp(Vn[6])))\n",
    "    Vnplusone[1] = theta1*2 + beta*(0.5772+np.log(np.exp(Vn[2])+np.exp(Vn[7])))\n",
    "    Vnplusone[2] = theta1*3 + beta*(0.5772+np.log(np.exp(Vn[3])+np.exp(Vn[8])))\n",
    "    Vnplusone[3] = theta1*4 + beta*(0.5772+np.log(np.exp(Vn[4])+np.exp(Vn[9])))\n",
    "    Vnplusone[4] = theta1*5 + beta*(0.5772+np.log(np.exp(Vn[4])+np.exp(Vn[9])))\n",
    "    #The last 5 rows correspond to V_1\n",
    "    Vnplusone[5] = R + beta*(0.5772+np.log(np.exp(Vn[0])+np.exp(Vn[5])))\n",
    "    Vnplusone[6] = R + beta*(0.5772+np.log(np.exp(Vn[0])+np.exp(Vn[5])))\n",
    "    Vnplusone[7] = R + beta*(0.5772+np.log(np.exp(Vn[0])+np.exp(Vn[5])))\n",
    "    Vnplusone[8] = R + beta*(0.5772+np.log(np.exp(Vn[0])+np.exp(Vn[5])))\n",
    "    Vnplusone[9] = R + beta*(0.5772+np.log(np.exp(Vn[0])+np.exp(Vn[5])))\n",
    "    return Vnplusone"
   ]
  },
  {
   "cell_type": "code",
   "execution_count": 483,
   "metadata": {
    "collapsed": true
   },
   "outputs": [],
   "source": [
    "# Parameter values:\n",
    "beta = 0.9\n",
    "theta1 = -1\n",
    "R = -3\n",
    "\n",
    "# Initial value for iterations:\n",
    "Vn = np.ones((10, 1))\n",
    "\n",
    "# Checking the contraction function:\n",
    "#contraction(Vn, beta, theta1, R)"
   ]
  },
  {
   "cell_type": "code",
   "execution_count": 484,
   "metadata": {
    "collapsed": true
   },
   "outputs": [],
   "source": [
    "# Finding the fixed point:\n",
    "count = 1\n",
    "tres = 100\n",
    "while (tres > 0.001):\n",
    "    Vnplusone = contraction(Vn, beta, theta1, R)\n",
    "    tres = LA.norm(Vnplusone-Vn)\n",
    "    Vn = Vnplusone\n",
    "    #print('Iteration:', count )\n",
    "    #print('Threshold:', tres )\n",
    "    #print('Vn:', Vn )\n",
    "    count = count + 1"
   ]
  },
  {
   "cell_type": "code",
   "execution_count": 485,
   "metadata": {},
   "outputs": [
    {
     "data": {
      "text/plain": [
       "array([[-10.16653272],\n",
       "       [-11.51456319],\n",
       "       [-12.65497392],\n",
       "       [-13.70797396],\n",
       "       [-14.70797396],\n",
       "       [-11.40007522],\n",
       "       [-11.40007522],\n",
       "       [-11.40007522],\n",
       "       [-11.40007522],\n",
       "       [-11.40007522]])"
      ]
     },
     "execution_count": 485,
     "metadata": {},
     "output_type": "execute_result"
    }
   ],
   "source": [
    "#Value function:\n",
    "Vn"
   ]
  },
  {
   "cell_type": "markdown",
   "metadata": {},
   "source": [
    "\n",
    "\n",
    "### Question 4\n",
    "\n",
    "Solve the model for the parameters $(\\theta_1 = -1, R = -3)$ . Suppose $a_t = 2$. Will the firm replace its machine in period $t$? Oops, that was a trick question - for what value of $\\varepsilon_{0t}- \\varepsilon_{1t}$ is the firm indifferent\n",
    "between replacing its machine or not? What is the probability (to an econometrician who doesn't observe the $\\varepsilon$'s) that this firm will replace its machine? What is the PDV of future profits for a firm at state\n",
    "$\\{a_t = 4,\\varepsilon_{0t} = 1,\\varepsilon_{1t} = -1.5\\}$? (the constant term has been normalized so it is OK if this PDV is <0)\n"
   ]
  },
  {
   "cell_type": "markdown",
   "metadata": {},
   "source": [
    "**Answer:**\n",
    "\n",
    "* Note that:\n",
    "\n",
    "\\begin{equation}\n",
    "V(a_t, \\epsilon_t; \\theta) =  \\max_{i_t} [\\bar{V}_0(a_t; \\theta) + \\epsilon_{0t}, \\bar{V}_1(a_t; \\theta) + \\epsilon_{1t} ]\n",
    "\\end{equation}"
   ]
  },
  {
   "cell_type": "code",
   "execution_count": 486,
   "metadata": {},
   "outputs": [
    {
     "data": {
      "text/plain": [
       "array([-11.51456319])"
      ]
     },
     "execution_count": 486,
     "metadata": {},
     "output_type": "execute_result"
    }
   ],
   "source": [
    "# Present disocunted value of not replacing at age 2, net of epsilon_0t:\n",
    "Vn[1]"
   ]
  },
  {
   "cell_type": "code",
   "execution_count": 487,
   "metadata": {},
   "outputs": [
    {
     "data": {
      "text/plain": [
       "array([-11.40007522])"
      ]
     },
     "execution_count": 487,
     "metadata": {},
     "output_type": "execute_result"
    }
   ],
   "source": [
    "# Present disocunted value of replacing at age 2, net of epsilon_1t:\n",
    "Vn[6]"
   ]
  },
  {
   "cell_type": "markdown",
   "metadata": {},
   "source": [
    "Therefore, for the parameters $(\\theta_1 = -1, R = -3)$:\n",
    "\n",
    "\\begin{equation}\n",
    "V(2, \\epsilon_t; \\theta) =  \\max_{i_t} [-11.51456319 + \\epsilon_{0t}, -11.40007522+ \\epsilon_{1t} ].\n",
    "\\end{equation}\n",
    "\n",
    "It follows that  the firm is indifferent between rplacing its machinge or not when:\n",
    "\n",
    "\\begin{equation}\n",
    "-11.51456319 + \\epsilon_{0t}= -11.40007522+ \\epsilon_{1t},\n",
    "\\end{equation}\n",
    "\n",
    "or\n",
    "\n",
    "\\begin{equation}\n",
    "\\epsilon_{0t}-\\epsilon_{1t}= 11.51 -11.40 = 0.11.\n",
    "\\end{equation}\n"
   ]
  },
  {
   "cell_type": "markdown",
   "metadata": {},
   "source": [
    "* The probability (to an econometrician who doesn't observe the $\\varepsilon$'s) that this firm replace its machine is given by\n",
    "\n",
    "\\begin{equation}\n",
    "\\begin{split}\n",
    "&Pr\\big(-11.51456319 + \\epsilon_{0t} \\le -11.40007522+ \\epsilon_{1t}\\big| a_t=2\\big)\\\\\n",
    "&=Pr\\big(\\epsilon_{0t}-\\epsilon_{1t} \\le 0.11\\big|a_t=2\\big)= \\frac{e^{0.11}}{1+e^{0.11}}= 0.53\n",
    "\\end{split}\n",
    "\\end{equation}"
   ]
  },
  {
   "cell_type": "markdown",
   "metadata": {},
   "source": [
    "* The PDV of future profirs for a firm at state $\\{a_t = 4,\\varepsilon_{0t} = 1,\\varepsilon_{1t} = -1.5\\}$ is given by:\n",
    "\n",
    "\\begin{equation}\n",
    "V(4,\\varepsilon_{0t} = 1;\\varepsilon_{1t} = -1.5; \\theta) =  \\max_{i_t} [-11.51456319 + 1, -11.40007522 -1.5 ]\n",
    "\\end{equation}"
   ]
  },
  {
   "cell_type": "code",
   "execution_count": 488,
   "metadata": {},
   "outputs": [
    {
     "data": {
      "text/plain": [
       "array([-12.70797396])"
      ]
     },
     "execution_count": 488,
     "metadata": {},
     "output_type": "execute_result"
    }
   ],
   "source": [
    "# Present disocunted value of not replacing at age 4:\n",
    "Vn[3]+1"
   ]
  },
  {
   "cell_type": "code",
   "execution_count": 489,
   "metadata": {},
   "outputs": [
    {
     "data": {
      "text/plain": [
       "array([-12.90007522])"
      ]
     },
     "execution_count": 489,
     "metadata": {},
     "output_type": "execute_result"
    }
   ],
   "source": [
    "# Present disocunted value of replacing at age 4,:\n",
    "Vn[8]-1.5"
   ]
  },
  {
   "cell_type": "markdown",
   "metadata": {},
   "source": [
    "Therefore, it is optimal for the firm not to replace, and the PDV is\n",
    "\n",
    "\\begin{equation}\n",
    "V(4,\\varepsilon_{0t} = 1;\\varepsilon_{1t} = -1.5; \\theta) = -12.70797396\n",
    "\\end{equation}\n"
   ]
  },
  {
   "cell_type": "markdown",
   "metadata": {},
   "source": [
    "### Question 5\n",
    "There is a simulated dataset on Canvas, \"data.asc\". This dataset has just two columns - $a_t$ (first column) and $i_t$ (second column). Consider this as cross-sectional data - i.e. there is only one data point per firm. Estimate $(\\theta_1, R)$ using maximum likelihood. Your ML function evaluation should look something like this:"
   ]
  },
  {
   "cell_type": "markdown",
   "metadata": {},
   "source": [
    "  \n",
    "**a)** Start with arbitrary $(\\theta_1, R)$\n",
    "\n",
    "**b)** Solve the dynamic programming problem given these parameters (i.e. compute the functions $\\bar{V}_0(a_t)$ and $\\bar{V}_1(a_t)$)\n",
    "\n",
    "**c)** Using  $\\bar{V}_0(a_t)$ and $\\bar{V}_1(a_t)$, compute the probability of replacement for each $a_t$, i.e. $Prob(i_t =1 | a_t)$\n",
    "\n",
    "**d)** Comute the likelihood of each observation $j$, e.g. $L_j = i_j Prob(i_j=1|a_j)+(1-i_j)(1-Prob(i_j=1|a_j))$\n",
    "\n",
    "**e)** Return $-\\ln(L)=-\\sum_j \\ln(L_j)$ (the minus is if you are using a minimization (rather than maximization)procedure)\n",
    "\n",
    "\n",
    "Explain why you think I've suggested estimation is based on a conditional likelihood (conditional on $a_t$)."
   ]
  },
  {
   "cell_type": "markdown",
   "metadata": {},
   "source": [
    "**Answer:**"
   ]
  },
  {
   "cell_type": "code",
   "execution_count": 490,
   "metadata": {},
   "outputs": [
    {
     "name": "stdout",
     "output_type": "stream",
     "text": [
      "[[ 4.  1.]\n",
      " [ 4.  1.]\n",
      " [ 3.  0.]\n",
      " ..., \n",
      " [ 2.  0.]\n",
      " [ 5.  1.]\n",
      " [ 2.  1.]]\n"
     ]
    }
   ],
   "source": [
    "# Data upload\n",
    "\n",
    "data = np.loadtxt(\"data.asc\")\n",
    "print(data)"
   ]
  },
  {
   "cell_type": "code",
   "execution_count": 491,
   "metadata": {},
   "outputs": [
    {
     "data": {
      "text/plain": [
       "(1000, 2)"
      ]
     },
     "execution_count": 491,
     "metadata": {},
     "output_type": "execute_result"
    }
   ],
   "source": [
    "# Dimensions of the data\n",
    "np.shape(data)"
   ]
  },
  {
   "cell_type": "code",
   "execution_count": 492,
   "metadata": {
    "collapsed": true
   },
   "outputs": [],
   "source": [
    "# Age of machine\n",
    "age = data[:,0]\n",
    "age = age.reshape(np.size(data,0),1)\n",
    "# Dummy Variable = 1 if replacement\n",
    "inv = data[:,1]\n",
    "inv = inv.reshape(np.size(data,0),1)"
   ]
  },
  {
   "cell_type": "code",
   "execution_count": 493,
   "metadata": {},
   "outputs": [
    {
     "data": {
      "text/html": [
       "<div>\n",
       "<style>\n",
       "    .dataframe thead tr:only-child th {\n",
       "        text-align: right;\n",
       "    }\n",
       "\n",
       "    .dataframe thead th {\n",
       "        text-align: left;\n",
       "    }\n",
       "\n",
       "    .dataframe tbody tr th {\n",
       "        vertical-align: top;\n",
       "    }\n",
       "</style>\n",
       "<table border=\"1\" class=\"dataframe\">\n",
       "  <thead>\n",
       "    <tr style=\"text-align: right;\">\n",
       "      <th></th>\n",
       "      <th>Age</th>\n",
       "      <th>Replacement</th>\n",
       "    </tr>\n",
       "  </thead>\n",
       "  <tbody>\n",
       "    <tr>\n",
       "      <th>count</th>\n",
       "      <td>1000.00000</td>\n",
       "      <td>1000.000000</td>\n",
       "    </tr>\n",
       "    <tr>\n",
       "      <th>mean</th>\n",
       "      <td>2.84900</td>\n",
       "      <td>0.580000</td>\n",
       "    </tr>\n",
       "    <tr>\n",
       "      <th>std</th>\n",
       "      <td>1.41923</td>\n",
       "      <td>0.493805</td>\n",
       "    </tr>\n",
       "    <tr>\n",
       "      <th>min</th>\n",
       "      <td>1.00000</td>\n",
       "      <td>0.000000</td>\n",
       "    </tr>\n",
       "    <tr>\n",
       "      <th>25%</th>\n",
       "      <td>2.00000</td>\n",
       "      <td>0.000000</td>\n",
       "    </tr>\n",
       "    <tr>\n",
       "      <th>50%</th>\n",
       "      <td>3.00000</td>\n",
       "      <td>1.000000</td>\n",
       "    </tr>\n",
       "    <tr>\n",
       "      <th>75%</th>\n",
       "      <td>4.00000</td>\n",
       "      <td>1.000000</td>\n",
       "    </tr>\n",
       "    <tr>\n",
       "      <th>max</th>\n",
       "      <td>5.00000</td>\n",
       "      <td>1.000000</td>\n",
       "    </tr>\n",
       "  </tbody>\n",
       "</table>\n",
       "</div>"
      ],
      "text/plain": [
       "              Age  Replacement\n",
       "count  1000.00000  1000.000000\n",
       "mean      2.84900     0.580000\n",
       "std       1.41923     0.493805\n",
       "min       1.00000     0.000000\n",
       "25%       2.00000     0.000000\n",
       "50%       3.00000     1.000000\n",
       "75%       4.00000     1.000000\n",
       "max       5.00000     1.000000"
      ]
     },
     "execution_count": 493,
     "metadata": {},
     "output_type": "execute_result"
    }
   ],
   "source": [
    "df = pd.DataFrame(data, columns=['Age','Replacement'])\n",
    "df.describe()"
   ]
  },
  {
   "cell_type": "code",
   "execution_count": 494,
   "metadata": {
    "collapsed": true
   },
   "outputs": [],
   "source": [
    "def contraction(Vn, theta1, R):\n",
    "    Vnplusone=np.zeros((10, 1))\n",
    "    beta = 0.9\n",
    "    # The first 5 rows correspond to V_0. Ordered by the possible values of a_t: 1,2,3,4,5.\n",
    "    Vnplusone[0] = theta1*1 + beta*(0.5772+np.log(np.exp(Vn[1])+np.exp(Vn[6])))\n",
    "    Vnplusone[1] = theta1*2 + beta*(0.5772+np.log(np.exp(Vn[2])+np.exp(Vn[7])))\n",
    "    Vnplusone[2] = theta1*3 + beta*(0.5772+np.log(np.exp(Vn[3])+np.exp(Vn[8])))\n",
    "    Vnplusone[3] = theta1*4 + beta*(0.5772+np.log(np.exp(Vn[4])+np.exp(Vn[9])))\n",
    "    Vnplusone[4] = theta1*5 + beta*(0.5772+np.log(np.exp(Vn[4])+np.exp(Vn[9])))\n",
    "    #The last 5 rows correspond to V_1\n",
    "    Vnplusone[5] = R + beta*(0.5772+np.log(np.exp(Vn[0])+np.exp(Vn[5])))\n",
    "    Vnplusone[6] = R + beta*(0.5772+np.log(np.exp(Vn[0])+np.exp(Vn[5])))\n",
    "    Vnplusone[7] = R + beta*(0.5772+np.log(np.exp(Vn[0])+np.exp(Vn[5])))\n",
    "    Vnplusone[8] = R + beta*(0.5772+np.log(np.exp(Vn[0])+np.exp(Vn[5])))\n",
    "    Vnplusone[9] = R + beta*(0.5772+np.log(np.exp(Vn[0])+np.exp(Vn[5])))\n",
    "    return Vnplusone"
   ]
  },
  {
   "cell_type": "code",
   "execution_count": 495,
   "metadata": {
    "collapsed": true
   },
   "outputs": [],
   "source": [
    "def logit(x):\n",
    "    j = np.exp(x)/(1+np.exp(x))\n",
    "    return j"
   ]
  },
  {
   "cell_type": "code",
   "execution_count": 496,
   "metadata": {
    "collapsed": true
   },
   "outputs": [],
   "source": [
    "def lkhd(i,p):\n",
    "    # First argument: investment\n",
    "    # Second argument: probability of replacement\n",
    "    lkhd = i*p+(1-i)*(1-p)\n",
    "    return lkhd"
   ]
  },
  {
   "cell_type": "code",
   "execution_count": 497,
   "metadata": {
    "collapsed": true
   },
   "outputs": [],
   "source": [
    "# Putting things together to write the objective function\n",
    "\n",
    "def obj(theta):\n",
    "    \n",
    "    theta1= theta[0]\n",
    "    R = theta[1]\n",
    "    \n",
    "    # Initial value for iterations:\n",
    "    Vn = np.ones((10, 1))\n",
    "    \n",
    "    # Finding the fixed point:\n",
    "    tres = 100\n",
    "    while (tres > 0.001):\n",
    "        Vnplusone = contraction(Vn, theta1, R)\n",
    "        tres = LA.norm(Vnplusone-Vn)\n",
    "        Vn = Vnplusone\n",
    "        \n",
    "    # Computing the probability of replacement for each age:\n",
    "    Reprob = np.zeros((5,1))\n",
    "\n",
    "    Reprob[0]=logit(Vn[5]-Vn[0]) # Age = 1\n",
    "    Reprob[1]=logit(Vn[6]-Vn[1]) # Age = 2\n",
    "    Reprob[2]=logit(Vn[7]-Vn[2]) # Age = 3\n",
    "    Reprob[3]=logit(Vn[8]-Vn[3]) # Age = 4\n",
    "    Reprob[4]=logit(Vn[9]-Vn[4]) # Age = 5\n",
    "    \n",
    "    # Matching prob. of replacement to each observation according to age:\n",
    "    prob=np.zeros((np.size(data,0), 1))\n",
    "\n",
    "    for j in range(0, np.size(data,0)):\n",
    "        if age[j] == 1:\n",
    "            prob[j]= Reprob[0]\n",
    "        elif age[j] == 2:\n",
    "            prob[j]= Reprob[1]\n",
    "        elif age[j] == 3:\n",
    "            prob[j]= Reprob[2]\n",
    "        elif age[j] == 4:\n",
    "            prob[j]= Reprob[3]\n",
    "        elif age[j] == 5:\n",
    "            prob[j]= Reprob[4]\n",
    "            \n",
    "    # Computing the likelihood of each observation:\n",
    "    loglkhd = np.log(lkhd(inv,prob))\n",
    "    \n",
    "    logL = - np.sum(loglkhd, axis=0)\n",
    "    #print('Log-likelihood:', logL )\n",
    "    return logL"
   ]
  },
  {
   "cell_type": "code",
   "execution_count": 498,
   "metadata": {},
   "outputs": [
    {
     "name": "stdout",
     "output_type": "stream",
     "text": [
      "[-1, -3]\n"
     ]
    }
   ],
   "source": [
    "# Initial values for numerical optimization\n",
    "theta =  [-1,-3] \n",
    "print(theta)"
   ]
  },
  {
   "cell_type": "code",
   "execution_count": 499,
   "metadata": {},
   "outputs": [
    {
     "name": "stdout",
     "output_type": "stream",
     "text": [
      "[-1.14838832 -4.44640774]\n"
     ]
    }
   ],
   "source": [
    "# Parameter estimates\n",
    "result = minimize(obj, theta, method='nelder-mead')\n",
    "theta_hat = result.x \n",
    "print(theta_hat)"
   ]
  },
  {
   "cell_type": "code",
   "execution_count": 500,
   "metadata": {},
   "outputs": [
    {
     "name": "stdout",
     "output_type": "stream",
     "text": [
      "              theta1      R \n",
      "      est:   -1.14839   -4.44641  \n"
     ]
    }
   ],
   "source": [
    "# Results\n",
    "\n",
    "print  ( '{:>9} {:>10}  {:>5} '.format('', 'theta1', 'R'))  \n",
    "\n",
    "print  ( '{:>10} {:>10.5f} {:>10.5f}  '.format('est:', float(theta_hat[0]), float(theta_hat[1]))) "
   ]
  },
  {
   "cell_type": "markdown",
   "metadata": {},
   "source": [
    "* I think you suggested estimation based on a conditional likelihood (conditional on $a_t$) because under the logit error assumption we can solve analytically for the replacement probaility given age.\n",
    "\n",
    "* Also, there is no individual heterogeneity across buses in this model."
   ]
  },
  {
   "cell_type": "markdown",
   "metadata": {},
   "source": [
    "### Question 6\n",
    "Compute standard errors of your estimates (you should use the regular maximum likelihood standard error formulas)."
   ]
  },
  {
   "cell_type": "markdown",
   "metadata": {},
   "source": [
    "**Answer:**"
   ]
  },
  {
   "cell_type": "code",
   "execution_count": 501,
   "metadata": {
    "collapsed": true
   },
   "outputs": [],
   "source": [
    "# Computation of individual log likelihood\n",
    "\n",
    "def iloglkhd(beta):\n",
    "    \n",
    "    theta1= beta[0]\n",
    "    R = beta[1]\n",
    "    \n",
    "    # Initial value for iterations:\n",
    "    Vn = np.ones((10, 1))\n",
    "    \n",
    "    # Finding the fixed point:\n",
    "    tres = 100\n",
    "    while (tres > 0.001):\n",
    "        Vnplusone = contraction(Vn, theta1, R)\n",
    "        tres = LA.norm(Vnplusone-Vn)\n",
    "        Vn = Vnplusone\n",
    "        \n",
    "    # Computing the probability of replacement for each age:\n",
    "    Reprob = np.zeros((5,1))\n",
    "\n",
    "    Reprob[0]=logit(Vn[5]-Vn[0]) # Age = 1\n",
    "    Reprob[1]=logit(Vn[6]-Vn[1]) # Age = 2\n",
    "    Reprob[2]=logit(Vn[7]-Vn[2]) # Age = 3\n",
    "    Reprob[3]=logit(Vn[8]-Vn[3]) # Age = 4\n",
    "    Reprob[4]=logit(Vn[9]-Vn[4]) # Age = 5\n",
    "    \n",
    "    # Matching prob. of replacement to each observation according to age:\n",
    "    prob=np.zeros((np.size(data,0), 1))\n",
    "\n",
    "    for j in range(0, np.size(data,0)):\n",
    "        if age[j] == 1:\n",
    "            prob[j]= Reprob[0]\n",
    "        elif age[j] == 2:\n",
    "            prob[j]= Reprob[1]\n",
    "        elif age[j] == 3:\n",
    "            prob[j]= Reprob[2]\n",
    "        elif age[j] == 4:\n",
    "            prob[j]= Reprob[3]\n",
    "        elif age[j] == 5:\n",
    "            prob[j]= Reprob[4]\n",
    "            \n",
    "    # Computing the likelihood of each observation:\n",
    "    loglkhd = np.log(lkhd(inv,prob))\n",
    "    \n",
    "    return loglkhd"
   ]
  },
  {
   "cell_type": "code",
   "execution_count": 502,
   "metadata": {
    "collapsed": true
   },
   "outputs": [],
   "source": [
    "# Variance computation\n",
    "\n",
    "def var(theta):\n",
    "    \n",
    "    theta1= theta[0]\n",
    "    R = theta[1]\n",
    "    \n",
    "    # Numerical computation of derivatives of individual likelihood:\n",
    "    \n",
    "    dtheta1 = (iloglkhd([(theta1*1.001),R])-iloglkhd(theta))/(0.001*theta1)\n",
    "    dR = (iloglkhd([theta1,(R*1.001)] )-iloglkhd(theta))/(0.001*R)\n",
    "    \n",
    "    # Creating the variance matrix\n",
    "    \n",
    "    variance=np.zeros((np.size(theta), np.size(theta)))\n",
    "    \n",
    "    variance[0,0] = dtheta1.T @ dtheta1\n",
    "    variance[1,1] = dR.T @ dR\n",
    "    variance[0,1]= dtheta1.T @ dR\n",
    "    variance[1,0]= variance[0,1]\n",
    "    \n",
    "    VAR = np.linalg.inv(variance)\n",
    "    \n",
    "    return VAR"
   ]
  },
  {
   "cell_type": "code",
   "execution_count": 503,
   "metadata": {},
   "outputs": [
    {
     "name": "stdout",
     "output_type": "stream",
     "text": [
      "[[ 0.00560651  0.02083656]\n",
      " [ 0.02083656  0.10302951]]\n"
     ]
    }
   ],
   "source": [
    "# Variance matrix\n",
    "Var = var(theta_hat)\n",
    "print(Var)"
   ]
  },
  {
   "cell_type": "code",
   "execution_count": 504,
   "metadata": {},
   "outputs": [
    {
     "name": "stdout",
     "output_type": "stream",
     "text": [
      "              theta1      R \n",
      "      est:   -1.14839   -4.44641  \n",
      "       se:    0.07488    0.32098  \n"
     ]
    }
   ],
   "source": [
    "# Results with standard errors\n",
    "\n",
    "print  ( '{:>9} {:>10}  {:>5} '.format('', 'theta1', 'R'))  \n",
    "\n",
    "print  ( '{:>10} {:>10.5f} {:>10.5f}  '.format('est:', float(theta_hat[0]), float(theta_hat[1])))\n",
    "\n",
    "print  ( '{:>10} {:>10.5f} {:>10.5f}  '.format('se:', float(np.sqrt(Var[0,0])), float(np.sqrt(Var[1,1]))))"
   ]
  },
  {
   "cell_type": "markdown",
   "metadata": {},
   "source": [
    "### Question 7\n",
    "\n",
    "Describe (you do NOT have to do this on the computer) how you would need to change your model (either the dynamic programming problem, the estimation procedure, or both) to accommodate the following perturbations of the model:"
   ]
  },
  {
   "cell_type": "markdown",
   "metadata": {},
   "source": [
    "**a)** Consider an alternative empirical model. Suppose there are two types of firms - differing in their value of $\\theta_1$. Proportion $\\alpha$ of firms have $\\theta_1=\\theta_{1A}$, proportion $(1-\\alpha)$ have $\\theta_1=\\theta_{1B}$. How would you change both the dynamic programming problem and the likelihood function? You can ignore the potential initial conditions problem in the likelihood function."
   ]
  },
  {
   "cell_type": "markdown",
   "metadata": {},
   "source": [
    "**b)** What if you had the model in a) but you have panel data, i.e. multiple observations on each firm? Write down the likelihood function (again, ignoring potential initial conditions problems)."
   ]
  },
  {
   "cell_type": "markdown",
   "metadata": {},
   "source": [
    "**c)** Continuing with the panel data situation, what if instead of *firms* differing in $\\theta_1$, *machines* differ in $\\theta_1$, i.e. when a firm replaces their old machine, the new machine may have $\\theta_1=\\theta_{1A}$ (w/prob $\\alpha$) or it may have $\\theta_1=\\theta_{1B}$ (w/prob $1-\\alpha$)? Again, describe how the dynamic programming problem and likelihoods change\n",
    "(ignoring potential initial conditions problems)"
   ]
  },
  {
   "cell_type": "markdown",
   "metadata": {},
   "source": [
    "**d)** Describe the initial conditions problem that you have ignored in the prior three parts. Propose at least one way to address this initial conditions problem."
   ]
  },
  {
   "cell_type": "markdown",
   "metadata": {},
   "source": [
    "**e)** Go back to only one \"type\" of firm and one observation per firm. What if $a_t$ does not evolve deterministically, i.e. if you don't replace ($i_t = 0$):\n",
    "\n",
    "\\begin{equation}\n",
    "a_{t+1}=\n",
    "\\begin{cases}\n",
    "&a_t &\\quad \\text{with probability $\\lambda$}\\\\\n",
    "&\\min\\{5, a_t+1\\} &\\quad \\text{if $1-\\lambda$}\n",
    "\\end{cases}\n",
    "\\end{equation}\n",
    "\n",
    "Make an informal argument that there is some information in the data regarding the parameter $\\lambda$. Note that this is not obvious because you only have 1 data point per firm and thus you never actually observe transitions from $a_t$ to $a_{t+1}$. You can assume that your data is a random sample of firms that are in a \"steady state\" (i.e. they have existed for a long time)."
   ]
  },
  {
   "cell_type": "markdown",
   "metadata": {},
   "source": [
    "### Question 8\n",
    "\n",
    "Estimate the original model using the Hotz and Miller algorithm. Compare your estimates to those in part 4). You do not need to compute standard errors. If you have time, iterate this estimation procedure (as described in the class notes) and see how many iterations it takes to get \"close\" to the ML estimator."
   ]
  },
  {
   "cell_type": "markdown",
   "metadata": {
    "collapsed": true
   },
   "source": [
    "**Answer:**\n",
    "\n",
    "In the specific case where $\\epsilon_{0t}$ and $\\epsilon_{1t}$ are  assumed Type I Extreme Value (logit) errors, the first equation of the HM alternative representation is given by:\n",
    "\n",
    "\\begin{equation}\n",
    "\\begin{split}\n",
    "&V(a_t;\\theta)=[I-(1-P(a_t; \\theta))\\beta T(0;\\theta)-P(a_t; \\theta)\\beta T(1;\\theta)]^{-1}\\\\\n",
    "&[(1-P(a_t; \\theta))[u(a_t,0;\\theta)+0.5772-\\ln(1-P(a_t;\\theta))]+P(a_t;\\theta)[u(a_t,1;\\theta)+0.5772-\\ln(P(a_t;\\theta))]].\n",
    "\\end{split}\n",
    "\\end{equation}"
   ]
  },
  {
   "cell_type": "markdown",
   "metadata": {},
   "source": [
    "Also, in this case, the second equation of the HM alternative representation is given by:\n",
    "\n",
    "\\begin{equation}\n",
    "\\begin{split}\n",
    "P(a_t; \\theta)=\\frac{\\exp(u(a_t,1;\\theta)+\\beta T(1; \\theta)V(a_t;\\theta))}{\\exp(u(a_t,0;\\theta)+\\beta T(0; \\theta)V(a_t;\\theta)+\\exp(u(a_t,1;\\theta))+\\beta T(1; \\theta)V(a_t;\\theta))}.\n",
    "\\end{split}\n",
    "\\end{equation}"
   ]
  },
  {
   "cell_type": "markdown",
   "metadata": {},
   "source": [
    "Substituting the first equation into the second then results in something that looks like\n",
    "\n",
    "\\begin{equation}\n",
    "P(a_t; \\theta)= \\kappa(P(a_t; \\theta), T(1;\\theta), T(0;\\theta),u(a_t,1;\\theta), u(a_t, 0;\\theta),\\beta),\n",
    "\\end{equation}\n",
    "\n",
    "where the $\\kappa$ function is easily computable."
   ]
  },
  {
   "cell_type": "code",
   "execution_count": null,
   "metadata": {
    "collapsed": true
   },
   "outputs": [],
   "source": [
    "# Computing consistent estimates of probabilities of actions"
   ]
  }
 ],
 "metadata": {
  "kernelspec": {
   "display_name": "Python 3",
   "language": "python",
   "name": "python3"
  },
  "language_info": {
   "codemirror_mode": {
    "name": "ipython",
    "version": 3
   },
   "file_extension": ".py",
   "mimetype": "text/x-python",
   "name": "python",
   "nbconvert_exporter": "python",
   "pygments_lexer": "ipython3",
   "version": "3.6.1"
  }
 },
 "nbformat": 4,
 "nbformat_minor": 2
}
